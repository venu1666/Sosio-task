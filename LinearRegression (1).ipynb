{
 "cells": [
  {
   "cell_type": "code",
   "execution_count": 2,
   "metadata": {},
   "outputs": [
    {
     "name": "stdout",
     "output_type": "stream",
     "text": [
      "<mysql.connector.connection_cext.CMySQLConnection object at 0x000001811BC92F28>\n"
     ]
    }
   ],
   "source": [
    "#connection establishment\n",
    "import mysql.connector\n",
    "conn = mysql.connector.connect(\n",
    "         user='foouser',\n",
    "         password='F88Pa%%**',\n",
    "         host='134.209.144.239',\n",
    "         database='stocksdb')\n",
    "print(conn)"
   ]
  },
  {
   "cell_type": "code",
   "execution_count": 3,
   "metadata": {},
   "outputs": [],
   "source": [
    "#Finding table in database\n",
    "con=conn.cursor()\n",
    "con.execute('USE stocksdb')\n",
    "con.execute(\"SHOW TABLES\") "
   ]
  },
  {
   "cell_type": "code",
   "execution_count": 4,
   "metadata": {},
   "outputs": [
    {
     "name": "stdout",
     "output_type": "stream",
     "text": [
      "interview\n"
     ]
    }
   ],
   "source": [
    "#printing table name\n",
    "for (table_name,) in con:\n",
    "        print(table_name)"
   ]
  },
  {
   "cell_type": "code",
   "execution_count": 5,
   "metadata": {},
   "outputs": [],
   "source": [
    "#Reading interview table from database using pandas\n",
    "import pandas as pd\n",
    "df = pd.read_sql('SELECT * FROM interview', con=conn)"
   ]
  },
  {
   "cell_type": "code",
   "execution_count": 62,
   "metadata": {},
   "outputs": [
    {
     "data": {
      "text/plain": [
       "Index(['isin', 'insertion_datetime', 'datetime', 'open', 'high', 'low',\n",
       "       'close', 'volume', 'open_interest'],\n",
       "      dtype='object')"
      ]
     },
     "execution_count": 62,
     "metadata": {},
     "output_type": "execute_result"
    }
   ],
   "source": [
    "#printing column names\n",
    "df.columns"
   ]
  },
  {
   "cell_type": "code",
   "execution_count": 77,
   "metadata": {},
   "outputs": [
    {
     "data": {
      "text/plain": [
       "isin                       0\n",
       "insertion_datetime    451940\n",
       "datetime                   0\n",
       "open                       0\n",
       "high                       0\n",
       "low                        0\n",
       "close                      0\n",
       "volume                     0\n",
       "open_interest         451940\n",
       "dtype: int64"
      ]
     },
     "execution_count": 77,
     "metadata": {},
     "output_type": "execute_result"
    }
   ],
   "source": [
    "#finding columns with null values\n",
    "df.isnull().sum()"
   ]
  },
  {
   "cell_type": "code",
   "execution_count": 78,
   "metadata": {},
   "outputs": [],
   "source": [
    "#creating new dataset with required columns\n",
    "dataset=df[['open','high','low','close','volume']]"
   ]
  },
  {
   "cell_type": "code",
   "execution_count": 79,
   "metadata": {},
   "outputs": [],
   "source": [
    "#splitting to train and test dataset\n",
    "from sklearn.model_selection import train_test_split\n",
    "train,test =train_test_split(dataset, test_size=0.3)"
   ]
  },
  {
   "cell_type": "code",
   "execution_count": 80,
   "metadata": {},
   "outputs": [
    {
     "data": {
      "text/html": [
       "<div>\n",
       "<style scoped>\n",
       "    .dataframe tbody tr th:only-of-type {\n",
       "        vertical-align: middle;\n",
       "    }\n",
       "\n",
       "    .dataframe tbody tr th {\n",
       "        vertical-align: top;\n",
       "    }\n",
       "\n",
       "    .dataframe thead th {\n",
       "        text-align: right;\n",
       "    }\n",
       "</style>\n",
       "<table border=\"1\" class=\"dataframe\">\n",
       "  <thead>\n",
       "    <tr style=\"text-align: right;\">\n",
       "      <th></th>\n",
       "      <th>open</th>\n",
       "      <th>high</th>\n",
       "      <th>low</th>\n",
       "      <th>close</th>\n",
       "      <th>volume</th>\n",
       "    </tr>\n",
       "  </thead>\n",
       "  <tbody>\n",
       "    <tr>\n",
       "      <th>325160</th>\n",
       "      <td>2501.85</td>\n",
       "      <td>2501.90</td>\n",
       "      <td>2501.85</td>\n",
       "      <td>2501.90</td>\n",
       "      <td>1</td>\n",
       "    </tr>\n",
       "    <tr>\n",
       "      <th>275989</th>\n",
       "      <td>2064.90</td>\n",
       "      <td>2064.90</td>\n",
       "      <td>2062.00</td>\n",
       "      <td>2062.00</td>\n",
       "      <td>6</td>\n",
       "    </tr>\n",
       "    <tr>\n",
       "      <th>326304</th>\n",
       "      <td>2550.00</td>\n",
       "      <td>2550.00</td>\n",
       "      <td>2550.00</td>\n",
       "      <td>2550.00</td>\n",
       "      <td>0</td>\n",
       "    </tr>\n",
       "    <tr>\n",
       "      <th>204737</th>\n",
       "      <td>711.95</td>\n",
       "      <td>711.95</td>\n",
       "      <td>711.95</td>\n",
       "      <td>711.95</td>\n",
       "      <td>0</td>\n",
       "    </tr>\n",
       "    <tr>\n",
       "      <th>373784</th>\n",
       "      <td>2146.00</td>\n",
       "      <td>2146.00</td>\n",
       "      <td>2146.00</td>\n",
       "      <td>2146.00</td>\n",
       "      <td>0</td>\n",
       "    </tr>\n",
       "    <tr>\n",
       "      <th>173409</th>\n",
       "      <td>753.00</td>\n",
       "      <td>753.00</td>\n",
       "      <td>753.00</td>\n",
       "      <td>753.00</td>\n",
       "      <td>0</td>\n",
       "    </tr>\n",
       "    <tr>\n",
       "      <th>468187</th>\n",
       "      <td>580.50</td>\n",
       "      <td>580.50</td>\n",
       "      <td>580.50</td>\n",
       "      <td>580.50</td>\n",
       "      <td>0</td>\n",
       "    </tr>\n",
       "    <tr>\n",
       "      <th>160094</th>\n",
       "      <td>813.00</td>\n",
       "      <td>813.00</td>\n",
       "      <td>813.00</td>\n",
       "      <td>813.00</td>\n",
       "      <td>0</td>\n",
       "    </tr>\n",
       "    <tr>\n",
       "      <th>394301</th>\n",
       "      <td>10.00</td>\n",
       "      <td>10.00</td>\n",
       "      <td>10.00</td>\n",
       "      <td>10.00</td>\n",
       "      <td>0</td>\n",
       "    </tr>\n",
       "    <tr>\n",
       "      <th>196518</th>\n",
       "      <td>705.30</td>\n",
       "      <td>705.30</td>\n",
       "      <td>705.30</td>\n",
       "      <td>705.30</td>\n",
       "      <td>0</td>\n",
       "    </tr>\n",
       "  </tbody>\n",
       "</table>\n",
       "</div>"
      ],
      "text/plain": [
       "           open     high      low    close  volume\n",
       "325160  2501.85  2501.90  2501.85  2501.90       1\n",
       "275989  2064.90  2064.90  2062.00  2062.00       6\n",
       "326304  2550.00  2550.00  2550.00  2550.00       0\n",
       "204737   711.95   711.95   711.95   711.95       0\n",
       "373784  2146.00  2146.00  2146.00  2146.00       0\n",
       "173409   753.00   753.00   753.00   753.00       0\n",
       "468187   580.50   580.50   580.50   580.50       0\n",
       "160094   813.00   813.00   813.00   813.00       0\n",
       "394301    10.00    10.00    10.00    10.00       0\n",
       "196518   705.30   705.30   705.30   705.30       0"
      ]
     },
     "execution_count": 80,
     "metadata": {},
     "output_type": "execute_result"
    }
   ],
   "source": [
    "#printing train dataset\n",
    "train.head(10)"
   ]
  },
  {
   "cell_type": "code",
   "execution_count": 81,
   "metadata": {},
   "outputs": [
    {
     "data": {
      "text/html": [
       "<div>\n",
       "<style scoped>\n",
       "    .dataframe tbody tr th:only-of-type {\n",
       "        vertical-align: middle;\n",
       "    }\n",
       "\n",
       "    .dataframe tbody tr th {\n",
       "        vertical-align: top;\n",
       "    }\n",
       "\n",
       "    .dataframe thead th {\n",
       "        text-align: right;\n",
       "    }\n",
       "</style>\n",
       "<table border=\"1\" class=\"dataframe\">\n",
       "  <thead>\n",
       "    <tr style=\"text-align: right;\">\n",
       "      <th></th>\n",
       "      <th>open</th>\n",
       "      <th>high</th>\n",
       "      <th>low</th>\n",
       "      <th>close</th>\n",
       "      <th>volume</th>\n",
       "    </tr>\n",
       "  </thead>\n",
       "  <tbody>\n",
       "    <tr>\n",
       "      <th>195175</th>\n",
       "      <td>716.15</td>\n",
       "      <td>728.7</td>\n",
       "      <td>716.15</td>\n",
       "      <td>728.7</td>\n",
       "      <td>278</td>\n",
       "    </tr>\n",
       "    <tr>\n",
       "      <th>476015</th>\n",
       "      <td>540.60</td>\n",
       "      <td>540.6</td>\n",
       "      <td>540.60</td>\n",
       "      <td>540.6</td>\n",
       "      <td>0</td>\n",
       "    </tr>\n",
       "    <tr>\n",
       "      <th>385891</th>\n",
       "      <td>9.60</td>\n",
       "      <td>9.6</td>\n",
       "      <td>9.60</td>\n",
       "      <td>9.6</td>\n",
       "      <td>0</td>\n",
       "    </tr>\n",
       "    <tr>\n",
       "      <th>312798</th>\n",
       "      <td>2700.00</td>\n",
       "      <td>2700.0</td>\n",
       "      <td>2700.00</td>\n",
       "      <td>2700.0</td>\n",
       "      <td>3</td>\n",
       "    </tr>\n",
       "    <tr>\n",
       "      <th>419165</th>\n",
       "      <td>16.50</td>\n",
       "      <td>16.5</td>\n",
       "      <td>16.50</td>\n",
       "      <td>16.5</td>\n",
       "      <td>0</td>\n",
       "    </tr>\n",
       "  </tbody>\n",
       "</table>\n",
       "</div>"
      ],
      "text/plain": [
       "           open    high      low   close  volume\n",
       "195175   716.15   728.7   716.15   728.7     278\n",
       "476015   540.60   540.6   540.60   540.6       0\n",
       "385891     9.60     9.6     9.60     9.6       0\n",
       "312798  2700.00  2700.0  2700.00  2700.0       3\n",
       "419165    16.50    16.5    16.50    16.5       0"
      ]
     },
     "execution_count": 81,
     "metadata": {},
     "output_type": "execute_result"
    }
   ],
   "source": [
    "#printing test dataset\n",
    "test.head()"
   ]
  },
  {
   "cell_type": "code",
   "execution_count": 82,
   "metadata": {},
   "outputs": [],
   "source": [
    "#preparing Features and Target variables for train dataset\n",
    "train_Y=train.pop('high')\n",
    "train_X=train"
   ]
  },
  {
   "cell_type": "code",
   "execution_count": 83,
   "metadata": {},
   "outputs": [
    {
     "data": {
      "text/html": [
       "<div>\n",
       "<style scoped>\n",
       "    .dataframe tbody tr th:only-of-type {\n",
       "        vertical-align: middle;\n",
       "    }\n",
       "\n",
       "    .dataframe tbody tr th {\n",
       "        vertical-align: top;\n",
       "    }\n",
       "\n",
       "    .dataframe thead th {\n",
       "        text-align: right;\n",
       "    }\n",
       "</style>\n",
       "<table border=\"1\" class=\"dataframe\">\n",
       "  <thead>\n",
       "    <tr style=\"text-align: right;\">\n",
       "      <th></th>\n",
       "      <th>open</th>\n",
       "      <th>low</th>\n",
       "      <th>close</th>\n",
       "      <th>volume</th>\n",
       "    </tr>\n",
       "  </thead>\n",
       "  <tbody>\n",
       "    <tr>\n",
       "      <th>325160</th>\n",
       "      <td>2501.85</td>\n",
       "      <td>2501.85</td>\n",
       "      <td>2501.90</td>\n",
       "      <td>1</td>\n",
       "    </tr>\n",
       "    <tr>\n",
       "      <th>275989</th>\n",
       "      <td>2064.90</td>\n",
       "      <td>2062.00</td>\n",
       "      <td>2062.00</td>\n",
       "      <td>6</td>\n",
       "    </tr>\n",
       "    <tr>\n",
       "      <th>326304</th>\n",
       "      <td>2550.00</td>\n",
       "      <td>2550.00</td>\n",
       "      <td>2550.00</td>\n",
       "      <td>0</td>\n",
       "    </tr>\n",
       "    <tr>\n",
       "      <th>204737</th>\n",
       "      <td>711.95</td>\n",
       "      <td>711.95</td>\n",
       "      <td>711.95</td>\n",
       "      <td>0</td>\n",
       "    </tr>\n",
       "    <tr>\n",
       "      <th>373784</th>\n",
       "      <td>2146.00</td>\n",
       "      <td>2146.00</td>\n",
       "      <td>2146.00</td>\n",
       "      <td>0</td>\n",
       "    </tr>\n",
       "  </tbody>\n",
       "</table>\n",
       "</div>"
      ],
      "text/plain": [
       "           open      low    close  volume\n",
       "325160  2501.85  2501.85  2501.90       1\n",
       "275989  2064.90  2062.00  2062.00       6\n",
       "326304  2550.00  2550.00  2550.00       0\n",
       "204737   711.95   711.95   711.95       0\n",
       "373784  2146.00  2146.00  2146.00       0"
      ]
     },
     "execution_count": 83,
     "metadata": {},
     "output_type": "execute_result"
    }
   ],
   "source": [
    "#printing feature variables of train data\n",
    "train_X.head()"
   ]
  },
  {
   "cell_type": "code",
   "execution_count": 84,
   "metadata": {},
   "outputs": [
    {
     "data": {
      "text/plain": [
       "325160    2501.90\n",
       "275989    2064.90\n",
       "326304    2550.00\n",
       "204737     711.95\n",
       "373784    2146.00\n",
       "Name: high, dtype: float64"
      ]
     },
     "execution_count": 84,
     "metadata": {},
     "output_type": "execute_result"
    }
   ],
   "source": [
    "#printing target variables for train data\n",
    "train_Y.head()"
   ]
  },
  {
   "cell_type": "code",
   "execution_count": 85,
   "metadata": {},
   "outputs": [],
   "source": [
    "#preparing features and target variables for test dataset\n",
    "test_Y=test.pop('high')\n",
    "test_X=test"
   ]
  },
  {
   "cell_type": "code",
   "execution_count": 86,
   "metadata": {},
   "outputs": [
    {
     "data": {
      "text/html": [
       "<div>\n",
       "<style scoped>\n",
       "    .dataframe tbody tr th:only-of-type {\n",
       "        vertical-align: middle;\n",
       "    }\n",
       "\n",
       "    .dataframe tbody tr th {\n",
       "        vertical-align: top;\n",
       "    }\n",
       "\n",
       "    .dataframe thead th {\n",
       "        text-align: right;\n",
       "    }\n",
       "</style>\n",
       "<table border=\"1\" class=\"dataframe\">\n",
       "  <thead>\n",
       "    <tr style=\"text-align: right;\">\n",
       "      <th></th>\n",
       "      <th>open</th>\n",
       "      <th>low</th>\n",
       "      <th>close</th>\n",
       "      <th>volume</th>\n",
       "    </tr>\n",
       "  </thead>\n",
       "  <tbody>\n",
       "    <tr>\n",
       "      <th>195175</th>\n",
       "      <td>716.15</td>\n",
       "      <td>716.15</td>\n",
       "      <td>728.7</td>\n",
       "      <td>278</td>\n",
       "    </tr>\n",
       "    <tr>\n",
       "      <th>476015</th>\n",
       "      <td>540.60</td>\n",
       "      <td>540.60</td>\n",
       "      <td>540.6</td>\n",
       "      <td>0</td>\n",
       "    </tr>\n",
       "    <tr>\n",
       "      <th>385891</th>\n",
       "      <td>9.60</td>\n",
       "      <td>9.60</td>\n",
       "      <td>9.6</td>\n",
       "      <td>0</td>\n",
       "    </tr>\n",
       "    <tr>\n",
       "      <th>312798</th>\n",
       "      <td>2700.00</td>\n",
       "      <td>2700.00</td>\n",
       "      <td>2700.0</td>\n",
       "      <td>3</td>\n",
       "    </tr>\n",
       "    <tr>\n",
       "      <th>419165</th>\n",
       "      <td>16.50</td>\n",
       "      <td>16.50</td>\n",
       "      <td>16.5</td>\n",
       "      <td>0</td>\n",
       "    </tr>\n",
       "  </tbody>\n",
       "</table>\n",
       "</div>"
      ],
      "text/plain": [
       "           open      low   close  volume\n",
       "195175   716.15   716.15   728.7     278\n",
       "476015   540.60   540.60   540.6       0\n",
       "385891     9.60     9.60     9.6       0\n",
       "312798  2700.00  2700.00  2700.0       3\n",
       "419165    16.50    16.50    16.5       0"
      ]
     },
     "execution_count": 86,
     "metadata": {},
     "output_type": "execute_result"
    }
   ],
   "source": [
    "#printing features of test dataset\n",
    "test_X.head()"
   ]
  },
  {
   "cell_type": "code",
   "execution_count": 87,
   "metadata": {},
   "outputs": [
    {
     "data": {
      "text/plain": [
       "195175     728.7\n",
       "476015     540.6\n",
       "385891       9.6\n",
       "312798    2700.0\n",
       "419165      16.5\n",
       "Name: high, dtype: float64"
      ]
     },
     "execution_count": 87,
     "metadata": {},
     "output_type": "execute_result"
    }
   ],
   "source": [
    "#printing target labels of test dataset\n",
    "test_Y.head()"
   ]
  },
  {
   "cell_type": "code",
   "execution_count": 88,
   "metadata": {},
   "outputs": [
    {
     "data": {
      "text/plain": [
       "LinearRegression(copy_X=True, fit_intercept=True, n_jobs=1, normalize=False)"
      ]
     },
     "execution_count": 88,
     "metadata": {},
     "output_type": "execute_result"
    }
   ],
   "source": [
    "#importing and initialising LinearRegression Model\n",
    "from sklearn.linear_model import LinearRegression\n",
    "L= LinearRegression()\n",
    "\n",
    "#Training the dataset\n",
    "L.fit(train_X,train_Y)\n"
   ]
  },
  {
   "cell_type": "code",
   "execution_count": 89,
   "metadata": {},
   "outputs": [
    {
     "data": {
      "text/plain": [
       "array([ 727.33697645,  540.624753  ,    9.5140704 , ..., 1850.29768673,\n",
       "       2345.40116038,  914.64617158])"
      ]
     },
     "execution_count": 89,
     "metadata": {},
     "output_type": "execute_result"
    }
   ],
   "source": [
    "#predicting the model with test dataset\n",
    "#predicting the highest price reached in a day\n",
    "L.predict(test_X)"
   ]
  },
  {
   "cell_type": "code",
   "execution_count": 90,
   "metadata": {},
   "outputs": [
    {
     "data": {
      "text/plain": [
       "0.9999984917950421"
      ]
     },
     "execution_count": 90,
     "metadata": {},
     "output_type": "execute_result"
    }
   ],
   "source": [
    "#importing metrics to see the accuracy of the model\n",
    "from sklearn.metrics import explained_variance_score\n",
    "explained_variance_score(test_Y,L.predict(test_X))"
   ]
  }
 ],
 "metadata": {
  "kernelspec": {
   "display_name": "Python 3",
   "language": "python",
   "name": "python3"
  },
  "language_info": {
   "codemirror_mode": {
    "name": "ipython",
    "version": 3
   },
   "file_extension": ".py",
   "mimetype": "text/x-python",
   "name": "python",
   "nbconvert_exporter": "python",
   "pygments_lexer": "ipython3",
   "version": "3.6.5"
  }
 },
 "nbformat": 4,
 "nbformat_minor": 2
}
